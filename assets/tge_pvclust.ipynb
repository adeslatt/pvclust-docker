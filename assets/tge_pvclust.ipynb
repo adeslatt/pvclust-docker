{
 "cells": [
  {
   "cell_type": "code",
   "execution_count": 1,
   "id": "f45b5beb-b5e2-4cd2-a83d-f1f8a973af32",
   "metadata": {},
   "outputs": [
    {
     "name": "stderr",
     "output_type": "stream",
     "text": [
      "Updating HTML index of packages in '.Library'\n",
      "\n",
      "Making 'packages.html' ...\n",
      " done\n",
      "\n"
     ]
    }
   ],
   "source": [
    "install.packages(\"pvclust\")\n"
   ]
  },
  {
   "cell_type": "code",
   "execution_count": 2,
   "id": "ce75e562-1272-43d8-a4fa-b33c2369b421",
   "metadata": {},
   "outputs": [],
   "source": [
    "library (pvclust)\n"
   ]
  },
  {
   "cell_type": "code",
   "execution_count": 3,
   "id": "5c1129a6-2547-4f88-972a-9ec32f32e063",
   "metadata": {},
   "outputs": [],
   "source": [
    "tumor_gene_expression_file<- \"/sbgenomics/project-files/tumor-gene-expression-rsem-tpm-collapsed.tsv\""
   ]
  },
  {
   "cell_type": "code",
   "execution_count": 4,
   "id": "f4f9c09a-e31d-4cb1-88bc-dbd990aa75c1",
   "metadata": {},
   "outputs": [],
   "source": [
    "tumor_gene_expression <- read.table(tumor_gene_expression_file, header=TRUE, row.names=1, sep=\"\\t\")"
   ]
  },
  {
   "cell_type": "code",
   "execution_count": 5,
   "id": "c9dcebf9-2751-4840-b48c-c13107edb2ca",
   "metadata": {},
   "outputs": [
    {
     "data": {
      "text/html": [
       "<table class=\"dataframe\">\n",
       "<caption>A data.frame: 6 × 1284</caption>\n",
       "<thead>\n",
       "\t<tr><th></th><th scope=col>BS_DERH44Z2</th><th scope=col>BS_CXGWN1W5</th><th scope=col>BS_QS2NKZW3</th><th scope=col>BS_135GYQQD</th><th scope=col>BS_HBMHZEGZ</th><th scope=col>BS_MPE34NYZ</th><th scope=col>BS_94ZKC2SR</th><th scope=col>BS_SM1QE9FJ</th><th scope=col>BS_STTGK8V4</th><th scope=col>BS_XFFQR05Z</th><th scope=col>⋯</th><th scope=col>BS_ECNBQ2RA</th><th scope=col>BS_B57327NA</th><th scope=col>BS_9TXEDSWB</th><th scope=col>BS_SY3J3XR9</th><th scope=col>BS_TR2P8KRF</th><th scope=col>BS_WBVSK3MP</th><th scope=col>BS_9FX3YREK</th><th scope=col>BS_RJC3WDD6</th><th scope=col>BS_G5NHSFD4</th><th scope=col>BS_JTWNJ8T7</th></tr>\n",
       "\t<tr><th></th><th scope=col>&lt;dbl&gt;</th><th scope=col>&lt;dbl&gt;</th><th scope=col>&lt;dbl&gt;</th><th scope=col>&lt;dbl&gt;</th><th scope=col>&lt;dbl&gt;</th><th scope=col>&lt;dbl&gt;</th><th scope=col>&lt;dbl&gt;</th><th scope=col>&lt;dbl&gt;</th><th scope=col>&lt;dbl&gt;</th><th scope=col>&lt;dbl&gt;</th><th scope=col>⋯</th><th scope=col>&lt;dbl&gt;</th><th scope=col>&lt;dbl&gt;</th><th scope=col>&lt;dbl&gt;</th><th scope=col>&lt;dbl&gt;</th><th scope=col>&lt;dbl&gt;</th><th scope=col>&lt;dbl&gt;</th><th scope=col>&lt;dbl&gt;</th><th scope=col>&lt;dbl&gt;</th><th scope=col>&lt;dbl&gt;</th><th scope=col>&lt;dbl&gt;</th></tr>\n",
       "</thead>\n",
       "<tbody>\n",
       "\t<tr><th scope=row>MT-CO3</th><td> 7458.52</td><td>3883.93</td><td>4849.37</td><td>1335.70</td><td>2647.82</td><td>4706.53</td><td>3848.63</td><td>3926.75</td><td>2301.56</td><td>6619.17</td><td>⋯</td><td>3843.52</td><td>11515.25</td><td>2843.97</td><td>4626.27</td><td>4796.54</td><td>4992.13</td><td>5830.48</td><td>2179.96</td><td>2388.52</td><td>2741.33</td></tr>\n",
       "\t<tr><th scope=row>MT-CO2</th><td> 8288.59</td><td>3047.39</td><td>3168.87</td><td>1378.69</td><td>2342.92</td><td>2274.70</td><td>2008.71</td><td>3315.94</td><td>1864.12</td><td>5765.39</td><td>⋯</td><td>1811.11</td><td> 8329.16</td><td>3435.33</td><td>3968.08</td><td>4673.94</td><td>3251.86</td><td>4614.71</td><td>2043.98</td><td>1896.64</td><td>2206.07</td></tr>\n",
       "\t<tr><th scope=row>MT-ATP6</th><td> 6606.88</td><td>2996.46</td><td>3003.09</td><td> 932.80</td><td>2144.00</td><td>2194.50</td><td>2166.25</td><td>2888.90</td><td>1567.04</td><td>5971.82</td><td>⋯</td><td>3851.08</td><td>13919.83</td><td>2049.76</td><td>3449.36</td><td>6068.35</td><td>4992.31</td><td>6300.63</td><td>2057.34</td><td>2459.10</td><td>2272.85</td></tr>\n",
       "\t<tr><th scope=row>MT-ND4</th><td> 6398.61</td><td>4019.43</td><td>4011.17</td><td>1572.16</td><td>3229.79</td><td>2909.59</td><td>2758.86</td><td>3899.71</td><td>3052.46</td><td>7549.45</td><td>⋯</td><td>3487.04</td><td>11354.66</td><td>2531.62</td><td>4394.46</td><td>5684.24</td><td>4569.99</td><td>6504.24</td><td>2024.25</td><td>2654.99</td><td>2606.61</td></tr>\n",
       "\t<tr><th scope=row>MT-CO1</th><td>10211.13</td><td>5824.88</td><td>6941.22</td><td>2357.34</td><td>4461.07</td><td>5387.36</td><td>4785.09</td><td>6413.92</td><td>4034.43</td><td>8812.22</td><td>⋯</td><td>6430.97</td><td> 8514.92</td><td>5633.70</td><td>6202.14</td><td>5720.83</td><td>3777.03</td><td>7596.47</td><td>2522.74</td><td>3030.33</td><td>3247.08</td></tr>\n",
       "\t<tr><th scope=row>MT-RNR2</th><td>    2.04</td><td>   2.51</td><td>  23.16</td><td>   0.48</td><td>   1.39</td><td>   9.50</td><td>   6.23</td><td>   1.31</td><td>   1.11</td><td>   1.11</td><td>⋯</td><td>   0.31</td><td>    9.79</td><td> 145.05</td><td>  15.55</td><td>   2.61</td><td>   2.01</td><td>  24.07</td><td>  31.23</td><td> 152.38</td><td>  49.55</td></tr>\n",
       "</tbody>\n",
       "</table>\n"
      ],
      "text/latex": [
       "A data.frame: 6 × 1284\n",
       "\\begin{tabular}{r|lllllllllllllllllllll}\n",
       "  & BS\\_DERH44Z2 & BS\\_CXGWN1W5 & BS\\_QS2NKZW3 & BS\\_135GYQQD & BS\\_HBMHZEGZ & BS\\_MPE34NYZ & BS\\_94ZKC2SR & BS\\_SM1QE9FJ & BS\\_STTGK8V4 & BS\\_XFFQR05Z & ⋯ & BS\\_ECNBQ2RA & BS\\_B57327NA & BS\\_9TXEDSWB & BS\\_SY3J3XR9 & BS\\_TR2P8KRF & BS\\_WBVSK3MP & BS\\_9FX3YREK & BS\\_RJC3WDD6 & BS\\_G5NHSFD4 & BS\\_JTWNJ8T7\\\\\n",
       "  & <dbl> & <dbl> & <dbl> & <dbl> & <dbl> & <dbl> & <dbl> & <dbl> & <dbl> & <dbl> & ⋯ & <dbl> & <dbl> & <dbl> & <dbl> & <dbl> & <dbl> & <dbl> & <dbl> & <dbl> & <dbl>\\\\\n",
       "\\hline\n",
       "\tMT-CO3 &  7458.52 & 3883.93 & 4849.37 & 1335.70 & 2647.82 & 4706.53 & 3848.63 & 3926.75 & 2301.56 & 6619.17 & ⋯ & 3843.52 & 11515.25 & 2843.97 & 4626.27 & 4796.54 & 4992.13 & 5830.48 & 2179.96 & 2388.52 & 2741.33\\\\\n",
       "\tMT-CO2 &  8288.59 & 3047.39 & 3168.87 & 1378.69 & 2342.92 & 2274.70 & 2008.71 & 3315.94 & 1864.12 & 5765.39 & ⋯ & 1811.11 &  8329.16 & 3435.33 & 3968.08 & 4673.94 & 3251.86 & 4614.71 & 2043.98 & 1896.64 & 2206.07\\\\\n",
       "\tMT-ATP6 &  6606.88 & 2996.46 & 3003.09 &  932.80 & 2144.00 & 2194.50 & 2166.25 & 2888.90 & 1567.04 & 5971.82 & ⋯ & 3851.08 & 13919.83 & 2049.76 & 3449.36 & 6068.35 & 4992.31 & 6300.63 & 2057.34 & 2459.10 & 2272.85\\\\\n",
       "\tMT-ND4 &  6398.61 & 4019.43 & 4011.17 & 1572.16 & 3229.79 & 2909.59 & 2758.86 & 3899.71 & 3052.46 & 7549.45 & ⋯ & 3487.04 & 11354.66 & 2531.62 & 4394.46 & 5684.24 & 4569.99 & 6504.24 & 2024.25 & 2654.99 & 2606.61\\\\\n",
       "\tMT-CO1 & 10211.13 & 5824.88 & 6941.22 & 2357.34 & 4461.07 & 5387.36 & 4785.09 & 6413.92 & 4034.43 & 8812.22 & ⋯ & 6430.97 &  8514.92 & 5633.70 & 6202.14 & 5720.83 & 3777.03 & 7596.47 & 2522.74 & 3030.33 & 3247.08\\\\\n",
       "\tMT-RNR2 &     2.04 &    2.51 &   23.16 &    0.48 &    1.39 &    9.50 &    6.23 &    1.31 &    1.11 &    1.11 & ⋯ &    0.31 &     9.79 &  145.05 &   15.55 &    2.61 &    2.01 &   24.07 &   31.23 &  152.38 &   49.55\\\\\n",
       "\\end{tabular}\n"
      ],
      "text/markdown": [
       "\n",
       "A data.frame: 6 × 1284\n",
       "\n",
       "| <!--/--> | BS_DERH44Z2 &lt;dbl&gt; | BS_CXGWN1W5 &lt;dbl&gt; | BS_QS2NKZW3 &lt;dbl&gt; | BS_135GYQQD &lt;dbl&gt; | BS_HBMHZEGZ &lt;dbl&gt; | BS_MPE34NYZ &lt;dbl&gt; | BS_94ZKC2SR &lt;dbl&gt; | BS_SM1QE9FJ &lt;dbl&gt; | BS_STTGK8V4 &lt;dbl&gt; | BS_XFFQR05Z &lt;dbl&gt; | ⋯ ⋯ | BS_ECNBQ2RA &lt;dbl&gt; | BS_B57327NA &lt;dbl&gt; | BS_9TXEDSWB &lt;dbl&gt; | BS_SY3J3XR9 &lt;dbl&gt; | BS_TR2P8KRF &lt;dbl&gt; | BS_WBVSK3MP &lt;dbl&gt; | BS_9FX3YREK &lt;dbl&gt; | BS_RJC3WDD6 &lt;dbl&gt; | BS_G5NHSFD4 &lt;dbl&gt; | BS_JTWNJ8T7 &lt;dbl&gt; |\n",
       "|---|---|---|---|---|---|---|---|---|---|---|---|---|---|---|---|---|---|---|---|---|---|\n",
       "| MT-CO3 |  7458.52 | 3883.93 | 4849.37 | 1335.70 | 2647.82 | 4706.53 | 3848.63 | 3926.75 | 2301.56 | 6619.17 | ⋯ | 3843.52 | 11515.25 | 2843.97 | 4626.27 | 4796.54 | 4992.13 | 5830.48 | 2179.96 | 2388.52 | 2741.33 |\n",
       "| MT-CO2 |  8288.59 | 3047.39 | 3168.87 | 1378.69 | 2342.92 | 2274.70 | 2008.71 | 3315.94 | 1864.12 | 5765.39 | ⋯ | 1811.11 |  8329.16 | 3435.33 | 3968.08 | 4673.94 | 3251.86 | 4614.71 | 2043.98 | 1896.64 | 2206.07 |\n",
       "| MT-ATP6 |  6606.88 | 2996.46 | 3003.09 |  932.80 | 2144.00 | 2194.50 | 2166.25 | 2888.90 | 1567.04 | 5971.82 | ⋯ | 3851.08 | 13919.83 | 2049.76 | 3449.36 | 6068.35 | 4992.31 | 6300.63 | 2057.34 | 2459.10 | 2272.85 |\n",
       "| MT-ND4 |  6398.61 | 4019.43 | 4011.17 | 1572.16 | 3229.79 | 2909.59 | 2758.86 | 3899.71 | 3052.46 | 7549.45 | ⋯ | 3487.04 | 11354.66 | 2531.62 | 4394.46 | 5684.24 | 4569.99 | 6504.24 | 2024.25 | 2654.99 | 2606.61 |\n",
       "| MT-CO1 | 10211.13 | 5824.88 | 6941.22 | 2357.34 | 4461.07 | 5387.36 | 4785.09 | 6413.92 | 4034.43 | 8812.22 | ⋯ | 6430.97 |  8514.92 | 5633.70 | 6202.14 | 5720.83 | 3777.03 | 7596.47 | 2522.74 | 3030.33 | 3247.08 |\n",
       "| MT-RNR2 |     2.04 |    2.51 |   23.16 |    0.48 |    1.39 |    9.50 |    6.23 |    1.31 |    1.11 |    1.11 | ⋯ |    0.31 |     9.79 |  145.05 |   15.55 |    2.61 |    2.01 |   24.07 |   31.23 |  152.38 |   49.55 |\n",
       "\n"
      ],
      "text/plain": [
       "        BS_DERH44Z2 BS_CXGWN1W5 BS_QS2NKZW3 BS_135GYQQD BS_HBMHZEGZ BS_MPE34NYZ\n",
       "MT-CO3   7458.52    3883.93     4849.37     1335.70     2647.82     4706.53    \n",
       "MT-CO2   8288.59    3047.39     3168.87     1378.69     2342.92     2274.70    \n",
       "MT-ATP6  6606.88    2996.46     3003.09      932.80     2144.00     2194.50    \n",
       "MT-ND4   6398.61    4019.43     4011.17     1572.16     3229.79     2909.59    \n",
       "MT-CO1  10211.13    5824.88     6941.22     2357.34     4461.07     5387.36    \n",
       "MT-RNR2     2.04       2.51       23.16        0.48        1.39        9.50    \n",
       "        BS_94ZKC2SR BS_SM1QE9FJ BS_STTGK8V4 BS_XFFQR05Z ⋯ BS_ECNBQ2RA\n",
       "MT-CO3  3848.63     3926.75     2301.56     6619.17     ⋯ 3843.52    \n",
       "MT-CO2  2008.71     3315.94     1864.12     5765.39     ⋯ 1811.11    \n",
       "MT-ATP6 2166.25     2888.90     1567.04     5971.82     ⋯ 3851.08    \n",
       "MT-ND4  2758.86     3899.71     3052.46     7549.45     ⋯ 3487.04    \n",
       "MT-CO1  4785.09     6413.92     4034.43     8812.22     ⋯ 6430.97    \n",
       "MT-RNR2    6.23        1.31        1.11        1.11     ⋯    0.31    \n",
       "        BS_B57327NA BS_9TXEDSWB BS_SY3J3XR9 BS_TR2P8KRF BS_WBVSK3MP BS_9FX3YREK\n",
       "MT-CO3  11515.25    2843.97     4626.27     4796.54     4992.13     5830.48    \n",
       "MT-CO2   8329.16    3435.33     3968.08     4673.94     3251.86     4614.71    \n",
       "MT-ATP6 13919.83    2049.76     3449.36     6068.35     4992.31     6300.63    \n",
       "MT-ND4  11354.66    2531.62     4394.46     5684.24     4569.99     6504.24    \n",
       "MT-CO1   8514.92    5633.70     6202.14     5720.83     3777.03     7596.47    \n",
       "MT-RNR2     9.79     145.05       15.55        2.61        2.01       24.07    \n",
       "        BS_RJC3WDD6 BS_G5NHSFD4 BS_JTWNJ8T7\n",
       "MT-CO3  2179.96     2388.52     2741.33    \n",
       "MT-CO2  2043.98     1896.64     2206.07    \n",
       "MT-ATP6 2057.34     2459.10     2272.85    \n",
       "MT-ND4  2024.25     2654.99     2606.61    \n",
       "MT-CO1  2522.74     3030.33     3247.08    \n",
       "MT-RNR2   31.23      152.38       49.55    "
      ]
     },
     "metadata": {},
     "output_type": "display_data"
    }
   ],
   "source": [
    "head (tumor_gene_expression)\n"
   ]
  },
  {
   "cell_type": "code",
   "execution_count": 6,
   "id": "513cb7c4-08de-4ab5-b853-65c45370256b",
   "metadata": {},
   "outputs": [
    {
     "data": {
      "text/html": [
       "<style>\n",
       ".list-inline {list-style: none; margin:0; padding: 0}\n",
       ".list-inline>li {display: inline-block}\n",
       ".list-inline>li:not(:last-child)::after {content: \"\\00b7\"; padding: 0 .5ex}\n",
       "</style>\n",
       "<ol class=list-inline><li>36718</li><li>1284</li></ol>\n"
      ],
      "text/latex": [
       "\\begin{enumerate*}\n",
       "\\item 36718\n",
       "\\item 1284\n",
       "\\end{enumerate*}\n"
      ],
      "text/markdown": [
       "1. 36718\n",
       "2. 1284\n",
       "\n",
       "\n"
      ],
      "text/plain": [
       "[1] 36718  1284"
      ]
     },
     "metadata": {},
     "output_type": "display_data"
    }
   ],
   "source": [
    "dim(tumor_gene_expression)"
   ]
  },
  {
   "cell_type": "code",
   "execution_count": 7,
   "id": "57536cd6-2727-47c4-9db1-2bc63d7265b9",
   "metadata": {},
   "outputs": [],
   "source": [
    "patient_cluster_matrix <- t(tumor_gene_expression)"
   ]
  },
  {
   "cell_type": "code",
   "execution_count": 8,
   "id": "b6eb9067-fba4-4ce8-8b4e-1ee3a9a41037",
   "metadata": {},
   "outputs": [
    {
     "data": {
      "text/html": [
       "<table class=\"dataframe\">\n",
       "<caption>A matrix: 4 × 4 of type dbl</caption>\n",
       "<thead>\n",
       "\t<tr><th></th><th scope=col>MT-CO3</th><th scope=col>MT-CO2</th><th scope=col>MT-ATP6</th><th scope=col>MT-ND4</th></tr>\n",
       "</thead>\n",
       "<tbody>\n",
       "\t<tr><th scope=row>BS_DERH44Z2</th><td>7458.52</td><td>8288.59</td><td>6606.88</td><td>6398.61</td></tr>\n",
       "\t<tr><th scope=row>BS_CXGWN1W5</th><td>3883.93</td><td>3047.39</td><td>2996.46</td><td>4019.43</td></tr>\n",
       "\t<tr><th scope=row>BS_QS2NKZW3</th><td>4849.37</td><td>3168.87</td><td>3003.09</td><td>4011.17</td></tr>\n",
       "\t<tr><th scope=row>BS_135GYQQD</th><td>1335.70</td><td>1378.69</td><td> 932.80</td><td>1572.16</td></tr>\n",
       "</tbody>\n",
       "</table>\n"
      ],
      "text/latex": [
       "A matrix: 4 × 4 of type dbl\n",
       "\\begin{tabular}{r|llll}\n",
       "  & MT-CO3 & MT-CO2 & MT-ATP6 & MT-ND4\\\\\n",
       "\\hline\n",
       "\tBS\\_DERH44Z2 & 7458.52 & 8288.59 & 6606.88 & 6398.61\\\\\n",
       "\tBS\\_CXGWN1W5 & 3883.93 & 3047.39 & 2996.46 & 4019.43\\\\\n",
       "\tBS\\_QS2NKZW3 & 4849.37 & 3168.87 & 3003.09 & 4011.17\\\\\n",
       "\tBS\\_135GYQQD & 1335.70 & 1378.69 &  932.80 & 1572.16\\\\\n",
       "\\end{tabular}\n"
      ],
      "text/markdown": [
       "\n",
       "A matrix: 4 × 4 of type dbl\n",
       "\n",
       "| <!--/--> | MT-CO3 | MT-CO2 | MT-ATP6 | MT-ND4 |\n",
       "|---|---|---|---|---|\n",
       "| BS_DERH44Z2 | 7458.52 | 8288.59 | 6606.88 | 6398.61 |\n",
       "| BS_CXGWN1W5 | 3883.93 | 3047.39 | 2996.46 | 4019.43 |\n",
       "| BS_QS2NKZW3 | 4849.37 | 3168.87 | 3003.09 | 4011.17 |\n",
       "| BS_135GYQQD | 1335.70 | 1378.69 |  932.80 | 1572.16 |\n",
       "\n"
      ],
      "text/plain": [
       "            MT-CO3  MT-CO2  MT-ATP6 MT-ND4 \n",
       "BS_DERH44Z2 7458.52 8288.59 6606.88 6398.61\n",
       "BS_CXGWN1W5 3883.93 3047.39 2996.46 4019.43\n",
       "BS_QS2NKZW3 4849.37 3168.87 3003.09 4011.17\n",
       "BS_135GYQQD 1335.70 1378.69  932.80 1572.16"
      ]
     },
     "metadata": {},
     "output_type": "display_data"
    }
   ],
   "source": [
    "patient_cluster_matrix[1:4,1:4]"
   ]
  },
  {
   "cell_type": "code",
   "execution_count": null,
   "id": "e509a151-fd66-43ba-a1de-29a7d5973c44",
   "metadata": {},
   "outputs": [],
   "source": [
    "patient_cluster.pv <- pvclust(patient_cluster_matrix, nboot=10, parallel=FALSE)"
   ]
  },
  {
   "cell_type": "code",
   "execution_count": null,
   "id": "185e935b-53b6-46f3-b32f-b9d8d3a0990e",
   "metadata": {},
   "outputs": [],
   "source": []
  }
 ],
 "metadata": {
  "kernelspec": {
   "display_name": "R",
   "language": "R",
   "name": "ir"
  },
  "language_info": {
   "codemirror_mode": "r",
   "file_extension": ".r",
   "mimetype": "text/x-r-source",
   "name": "R",
   "pygments_lexer": "r",
   "version": "4.1.1"
  }
 },
 "nbformat": 4,
 "nbformat_minor": 5
}
